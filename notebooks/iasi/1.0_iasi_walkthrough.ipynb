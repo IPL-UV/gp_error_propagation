{
 "cells": [
  {
   "cell_type": "code",
   "execution_count": 60,
   "metadata": {},
   "outputs": [
    {
     "name": "stdout",
     "output_type": "stream",
     "text": [
      "The autoreload extension is already loaded. To reload it, use:\n",
      "  %reload_ext autoreload\n"
     ]
    }
   ],
   "source": [
    "import sys\n",
    "sys.path.insert(0, '/home/emmanuel/code/py_iasi')\n",
    "sys.path.insert(0, '/home/emmanuel/papers_code/2019_egp_letter/src')\n",
    "\n",
    "# standard packages\n",
    "import numpy as np\n",
    "import xarray as xr\n",
    "import pandas as pd\n",
    "\n",
    "# IASI dataloader\n",
    "from pyiasi.iasi import IASIDataLoader, IASIData\n",
    "\n",
    "# GP Models\n",
    "from models.exact import GPRegressor\n",
    "from models.sparse import SparseGPRegressor\n",
    "from models.variational import UncertainSGPRegressor\n",
    "import GPy\n",
    "\n",
    "# Visualization\n",
    "import matplotlib.pyplot as plt\n",
    "plt.style.use(['seaborn-talk'])\n",
    "\n",
    "\n",
    "%matplotlib inline\n",
    "%load_ext autoreload\n",
    "%autoreload 2"
   ]
  },
  {
   "cell_type": "markdown",
   "metadata": {},
   "source": [
    "## Data - IASI"
   ]
  },
  {
   "cell_type": "markdown",
   "metadata": {},
   "source": [
    "* 20131001120859\n",
    "* 20131001102955\n",
    "* 20131001015955\n",
    "* 20131001202954\n",
    "* 20131001185058\n",
    "* 20131001084755\n",
    "* 20131001152954\n",
    "* 20131001170858\n",
    "* 20131001221154\n",
    "* 20131001135058\n",
    "* 20131001034155\n",
    "* 20131001070555\n",
    "* 20131001052355\n"
   ]
  },
  {
   "cell_type": "code",
   "execution_count": 40,
   "metadata": {},
   "outputs": [],
   "source": [
    "sample_orbit = ['20131001015955']\n",
    "sample_orbits = [\n",
    "    \"20131001120859\",\n",
    "    \"20131001102955\",\n",
    "    \"20131001015955\",\n",
    "    \"20131001202954\",\n",
    "    \"20131001185058\",\n",
    "    \"20131001084755\",\n",
    "    \"20131001152954\",\n",
    "    \"20131001170858\",\n",
    "    \"20131001221154\",\n",
    "    \"20131001135058\",\n",
    "    \"20131001034155\",\n",
    "    \"20131001070555\",\n",
    "    \"20131001052355\",\n",
    "]"
   ]
  },
  {
   "cell_type": "code",
   "execution_count": 41,
   "metadata": {},
   "outputs": [],
   "source": [
    "iasi_loader = IASIDataLoader(\n",
    "    train_orbits=sample_orbit, \n",
    "    test_orbits=sample_orbit,\n",
    "    n_training=5_000,\n",
    "    n_testing=10000,\n",
    "    batch_size=100,\n",
    "    dim_red='pca',\n",
    "    n_components=10\n",
    ")"
   ]
  },
  {
   "cell_type": "code",
   "execution_count": 42,
   "metadata": {},
   "outputs": [
    {
     "name": "stdout",
     "output_type": "stream",
     "text": [
      "Loading orbit: 20131001015955\n"
     ]
    },
    {
     "data": {
      "text/plain": [
       "((5000, 10), (5000, 137), (5000, 1), (5000, 1))"
      ]
     },
     "execution_count": 42,
     "metadata": {},
     "output_type": "execute_result"
    }
   ],
   "source": [
    "X, y, lat, lon = iasi_loader.load_training()\n",
    "X.shape, y.shape, lat.shape, lon.shape"
   ]
  },
  {
   "cell_type": "code",
   "execution_count": 43,
   "metadata": {},
   "outputs": [],
   "source": [
    "labels = y[:, -1]"
   ]
  },
  {
   "cell_type": "markdown",
   "metadata": {},
   "source": [
    "#### Input Errors"
   ]
  },
  {
   "cell_type": "code",
   "execution_count": 44,
   "metadata": {},
   "outputs": [],
   "source": [
    "def reduce_cov(cov: np.ndarray, V: np.ndarray) -> np.ndarray:\n",
    "    \n",
    "    return V @ cov @ V.T"
   ]
  },
  {
   "cell_type": "code",
   "execution_count": 45,
   "metadata": {},
   "outputs": [],
   "source": [
    "# get radiances\n",
    "rad_error = IASIData().get_rad_cov()\n",
    "rad_error_cov = np.diag(rad_error)\n",
    "\n",
    "V = iasi_loader.transformer.components_\n",
    "\n",
    "assert rad_error_cov.shape[0] == V.shape[-1]\n",
    "\n",
    "rad_error_red = reduce_cov(rad_error_cov, V)\n",
    "\n",
    "assert rad_error_red.shape[0] == V.shape[0]"
   ]
  },
  {
   "cell_type": "code",
   "execution_count": 46,
   "metadata": {},
   "outputs": [
    {
     "data": {
      "image/png": "[encoded data removed]",
      "text/plain": [
       "<Figure size 720x360 with 2 Axes>"
      ]
     },
     "metadata": {
      "needs_background": "light"
     },
     "output_type": "display_data"
    }
   ],
   "source": [
    "fig, ax = plt.subplots(ncols=2, figsize=(10,5))\n",
    "ax[0].imshow(np.diag(rad_error))\n",
    "ax[1].imshow(rad_error_red)\n",
    "plt.show()"
   ]
  },
  {
   "cell_type": "markdown",
   "metadata": {},
   "source": [
    "## GP Models"
   ]
  },
  {
   "cell_type": "markdown",
   "metadata": {},
   "source": [
    "#### GP Regression"
   ]
  },
  {
   "cell_type": "code",
   "execution_count": null,
   "metadata": {},
   "outputs": [],
   "source": [
    "\n",
    "\n",
    "kernel = GPy.kern.RBF(input_dim=X.shape[1], ARD=True)\n",
    "normalize_y = True\n",
    "optimizer = 'lbfgs'\n",
    "max_iters = 1_000\n",
    "X_variance = rad_error_red\n",
    "verbose = 1\n",
    "subsample = None\n",
    "n_restarts = 10\n",
    "\n",
    "\n",
    "gpr_model = GPRegressor(\n",
    "    kernel=kernel,\n",
    "    normalize_y=normalize_y,\n",
    "    max_iters=max_iters,\n",
    "    optimizer=optimizer,\n",
    "    X_variance=X_variance,\n",
    "    verbose=verbose,\n",
    "    n_restarts=n_restarts\n",
    ")\n",
    "\n",
    "gpr_model.fit(X[:subsample], labels[:subsample, None]);\n",
    "\n",
    "gpr_model.display_model()"
   ]
  },
  {
   "cell_type": "markdown",
   "metadata": {},
   "source": [
    "#### Sparse GP Regression"
   ]
  },
  {
   "cell_type": "code",
   "execution_count": 72,
   "metadata": {},
   "outputs": [
    {
     "name": "stdout",
     "output_type": "stream",
     "text": [
      "Running Scaled Conjugate Gradients Code:\n",
      "  runtime   i      f              |g|        \n",
      "    03s33  0006   8.367609e+03   7.187409e+05 \n",
      "    12s19  0022   7.111358e+03   1.219158e+03 \n",
      "    29s93  0054   7.094785e+03   9.363296e-01 \n",
      "    33s27  0060   7.094727e+03   1.647209e-01 \n",
      "    37s73  0068   7.094697e+03   2.286242e-04 \n",
      "    42s18  0076   7.094694e+03   2.847666e-05 \n",
      "Runtime:     42s18\n",
      "Optimization status: converged - relative reduction in objective\n",
      "\n",
      "Optimization restart 1/10, f = 7094.694339615421\n",
      "Optimization restart 2/10, f = 7094.69268008835\n",
      "Optimization restart 3/10, f = 7094.692681442437\n",
      "Optimization restart 4/10, f = 7094.692690832902\n",
      "Optimization restart 5/10, f = 7094.692713252111\n",
      "Optimization restart 6/10, f = 7094.692846867608\n",
      "Optimization restart 7/10, f = 7094.692678671764\n",
      "Optimization restart 8/10, f = 7094.69273732367\n",
      "Optimization restart 9/10, f = 7094.692677457881\n",
      "Optimization restart 10/10, f = 7094.692862630754\n"
     ]
    },
    {
     "data": {
      "text/html": [
       "<style type=\"text/css\">\n",
       ".pd{\n",
       "    font-family: \"Courier New\", Courier, monospace !important;\n",
       "    width: 100%;\n",
       "    padding: 3px;\n",
       "}\n",
       "</style>\n",
       "\n",
       "<p class=pd>\n",
       "<b>Model</b>: sparse_gp<br>\n",
       "<b>Objective</b>: 7094.692677457881<br>\n",
       "<b>Number of Parameters</b>: 3012<br>\n",
       "<b>Number of Optimization Parameters</b>: 3012<br>\n",
       "<b>Updates</b>: True<br>\n",
       "</p>\n",
       "<style type=\"text/css\">\n",
       ".tg  {font-family:\"Courier New\", Courier, monospace !important;padding:2px 3px;word-break:normal;border-collapse:collapse;border-spacing:0;border-color:#DCDCDC;margin:0px auto;width:100%;}\n",
       ".tg td{font-family:\"Courier New\", Courier, monospace !important;font-weight:bold;color:#444;background-color:#F7FDFA;border-style:solid;border-width:1px;overflow:hidden;word-break:normal;border-color:#DCDCDC;}\n",
       ".tg th{font-family:\"Courier New\", Courier, monospace !important;font-weight:normal;color:#fff;background-color:#26ADE4;border-style:solid;border-width:1px;overflow:hidden;word-break:normal;border-color:#DCDCDC;}\n",
       ".tg .tg-left{font-family:\"Courier New\", Courier, monospace !important;font-weight:normal;text-align:left;}\n",
       ".tg .tg-center{font-family:\"Courier New\", Courier, monospace !important;font-weight:normal;text-align:center;}\n",
       ".tg .tg-right{font-family:\"Courier New\", Courier, monospace !important;font-weight:normal;text-align:right;}\n",
       "</style>\n",
       "<table class=\"tg\"><tr><th><b>  sparse_gp.             </b></th><th><b>                value</b></th><th><b>constraints</b></th><th><b>priors</b></th></tr>\n",
       "<tr><td class=tg-left>  inducing inputs        </td><td class=tg-right>            (300, 10)</td><td class=tg-center>           </td><td class=tg-center>      </td></tr>\n",
       "<tr><td class=tg-left>  rbf.variance           </td><td class=tg-right>4.556361676131271e-09</td><td class=tg-center>    +ve    </td><td class=tg-center>      </td></tr>\n",
       "<tr><td class=tg-left>  rbf.lengthscale        </td><td class=tg-right>                (10,)</td><td class=tg-center>    +ve    </td><td class=tg-center>      </td></tr>\n",
       "<tr><td class=tg-left>  Gaussian_noise.variance</td><td class=tg-right>   1.0000059112254247</td><td class=tg-center>    +ve    </td><td class=tg-center>      </td></tr>\n",
       "</table>"
      ],
      "text/plain": [
       "<GPy.models.sparse_gp_regression.SparseGPRegression at 0x7f2d9dea3390>"
      ]
     },
     "execution_count": 72,
     "metadata": {},
     "output_type": "execute_result"
    }
   ],
   "source": [
    "import GPy\n",
    "\n",
    "kernel = GPy.kern.RBF(input_dim=X.shape[1], ARD=True)\n",
    "normalize_y = True\n",
    "optimizer = 'scg'\n",
    "max_iters = 1_000\n",
    "X_variance = rad_error_red\n",
    "verbose = 1\n",
    "n_inducing = 300\n",
    "subsample = None\n",
    "n_restarts = 10\n",
    "\n",
    "\n",
    "sgpr_model = SparseGPRegressor(\n",
    "    kernel=kernel,\n",
    "    normalize_y=normalize_y,\n",
    "    max_iters=max_iters,\n",
    "    optimizer=optimizer,\n",
    "    X_variance=X_variance,\n",
    "    verbose=verbose,\n",
    "    n_restarts=n_restarts,\n",
    "    n_inducing=n_inducing\n",
    ")\n",
    "\n",
    "sgpr_model.fit(X[:subsample], labels[:subsample, None]);\n",
    "\n",
    "sgpr_model.display_model()"
   ]
  },
  {
   "cell_type": "markdown",
   "metadata": {},
   "source": [
    "#### Variational Sparse GP Regression"
   ]
  },
  {
   "cell_type": "code",
   "execution_count": null,
   "metadata": {},
   "outputs": [
    {
     "name": "stdout",
     "output_type": "stream",
     "text": [
      "Running Scaled Conjugate Gradients Code:\n",
      "  runtime   i      f              |g|        \n",
      " 01m29s58  0005   8.367609e+03   7.187410e+05 \n",
      " 05m40s00  0019   7.112346e+03   2.189884e+03 \n",
      " 16m26s12  0055   7.094727e+03   9.363237e-01 \n",
      " 18m31s84  0062   7.094705e+03   1.957255e-03 \n",
      " 20m01s58  0067   7.094697e+03   2.751428e-02 \n",
      " 21m49s17  0073   7.094694e+03   4.459700e-03 "
     ]
    }
   ],
   "source": [
    "import GPy\n",
    "\n",
    "# GPR parameters\n",
    "kernel      = GPy.kern.RBF(input_dim=X.shape[1], ARD=True)\n",
    "normalize_y = True\n",
    "optimizer   = 'scg'\n",
    "max_iters   = 1_000\n",
    "X_variance  = np.diag(rad_error_red)\n",
    "verbose     = 1\n",
    "n_inducing  = 300\n",
    "subsample   = None\n",
    "n_restarts  = 10\n",
    "\n",
    "\n",
    "svgpr_model = UncertainSGPRegressor(\n",
    "    kernel=kernel,\n",
    "    normalize_y=normalize_y,\n",
    "    max_iters=max_iters,\n",
    "    optimizer=optimizer,\n",
    "    X_variance=X_variance,\n",
    "    verbose=verbose,\n",
    "    n_restarts=n_restarts,\n",
    "    n_inducing=n_inducing\n",
    ")\n",
    "\n",
    "svgpr_model.fit(X[:subsample], labels[:subsample, None]);\n",
    "\n",
    "svgpr_model.display_model()"
   ]
  },
  {
   "cell_type": "markdown",
   "metadata": {},
   "source": [
    "##### w. Batch Processing"
   ]
  },
  {
   "cell_type": "code",
   "execution_count": null,
   "metadata": {},
   "outputs": [],
   "source": [
    "import GPy\n",
    "\n",
    "kernel = GPy.kern.RBF(input_dim=X.shape[1], ARD=True)\n",
    "normalize_y = True\n",
    "optimizer = 'scg'\n",
    "max_iters = 1_000\n",
    "X_variance = rad_error_red\n",
    "verbose = 1\n",
    "n_inducing = 300\n",
    "subsample = None\n",
    "n_restarts = 10\n",
    "batch_size = 100\n",
    "\n",
    "\n",
    "svgpr_model2 = UncertainSGPRegressor(\n",
    "    kernel=kernel,\n",
    "    normalize_y=normalize_y,\n",
    "    max_iters=max_iters,\n",
    "    optimizer=optimizer,\n",
    "    X_variance=np.diag(X_variance),\n",
    "    verbose=verbose,\n",
    "    n_restarts=n_restarts,\n",
    "    n_inducing=n_inducing,\n",
    "    batch_size=batch_size\n",
    ")\n",
    "\n",
    "svgpr_model2.fit(X[:subsample], labels[:subsample, None]);\n",
    "\n",
    "svgpr_model2.display_model()"
   ]
  },
  {
   "cell_type": "code",
   "execution_count": null,
   "metadata": {},
   "outputs": [],
   "source": []
  }
 ],
 "metadata": {
  "kernelspec": {
   "display_name": "Python [conda env:.conda-2019_egp]",
   "language": "python",
   "name": "conda-env-.conda-2019_egp-py"
  },
  "language_info": {
   "codemirror_mode": {
    "name": "ipython",
    "version": 3
   },
   "file_extension": ".py",
   "mimetype": "text/x-python",
   "name": "python",
   "nbconvert_exporter": "python",
   "pygments_lexer": "ipython3",
   "version": "3.6.10"
  }
 },
 "nbformat": 4,
 "nbformat_minor": 4
}
